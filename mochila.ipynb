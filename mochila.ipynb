{
  "nbformat": 4,
  "nbformat_minor": 0,
  "metadata": {
    "colab": {
      "provenance": [],
      "authorship_tag": "ABX9TyMsovAg33UWkXxGpZrKuc3W",
      "include_colab_link": true
    },
    "kernelspec": {
      "name": "python3",
      "display_name": "Python 3"
    },
    "language_info": {
      "name": "python"
    }
  },
  "cells": [
    {
      "cell_type": "markdown",
      "metadata": {
        "id": "view-in-github",
        "colab_type": "text"
      },
      "source": [
        "<a href=\"https://colab.research.google.com/github/adre76/IBMEC-Mochila/blob/main/mochila.ipynb\" target=\"_parent\"><img src=\"https://colab.research.google.com/assets/colab-badge.svg\" alt=\"Open In Colab\"/></a>"
      ]
    },
    {
      "cell_type": "markdown",
      "source": [
        "# Instalando o pacote MIP (apenas no Google Colab)"
      ],
      "metadata": {
        "id": "5iILT8m21oCq"
      }
    },
    {
      "cell_type": "code",
      "execution_count": 15,
      "metadata": {
        "colab": {
          "base_uri": "https://localhost:8080/"
        },
        "id": "1cemyuPK1T9s",
        "outputId": "14e3e0a9-32d4-4f80-ad06-e7bfa51903b9"
      },
      "outputs": [
        {
          "output_type": "stream",
          "name": "stdout",
          "text": [
            "Looking in indexes: https://pypi.org/simple, https://us-python.pkg.dev/colab-wheels/public/simple/\n",
            "Requirement already satisfied: mip in /usr/local/lib/python3.8/dist-packages (1.15.0)\n",
            "Requirement already satisfied: cffi==1.15.* in /usr/local/lib/python3.8/dist-packages (from mip) (1.15.1)\n",
            "Requirement already satisfied: pycparser in /usr/local/lib/python3.8/dist-packages (from cffi==1.15.*->mip) (2.21)\n"
          ]
        }
      ],
      "source": [
        "!pip install mip"
      ]
    },
    {
      "cell_type": "code",
      "source": [
        "from mip import Model, maximize, xsum, BINARY, OptimizationStatus"
      ],
      "metadata": {
        "id": "mEf1OW7B1xKw"
      },
      "execution_count": 16,
      "outputs": []
    },
    {
      "cell_type": "code",
      "source": [
        "peso_item = [4, 6, 5, 3, 1]\n",
        "val_unidade = [5, 4, 3, 2, 1]\n",
        "termo_independente = 10"
      ],
      "metadata": {
        "id": "sQT1cri-1_T_"
      },
      "execution_count": 17,
      "outputs": []
    },
    {
      "cell_type": "code",
      "source": [
        "indice = range(len(peso_item))\n",
        "modelo = Model('Trab_1_Mochila')"
      ],
      "metadata": {
        "id": "4MysiOee2CjD"
      },
      "execution_count": 18,
      "outputs": []
    },
    {
      "cell_type": "code",
      "source": [
        "lista_var_mip = [modelo.add_var(var_type=BINARY) for i in indice]"
      ],
      "metadata": {
        "id": "nKpKi0OQ2Eo1"
      },
      "execution_count": 19,
      "outputs": []
    },
    {
      "cell_type": "code",
      "source": [
        "modelo.objective = maximize(xsum(peso_item[i] * lista_var_mip[i] for i in indice))"
      ],
      "metadata": {
        "id": "j4ZlTR__2Gqs"
      },
      "execution_count": 20,
      "outputs": []
    },
    {
      "cell_type": "code",
      "source": [
        "funcao_objetivo=xsum(peso_item[i] * lista_var_mip[i] for i in indice)"
      ],
      "metadata": {
        "id": "_QiUllfR2JHV"
      },
      "execution_count": 21,
      "outputs": []
    },
    {
      "cell_type": "code",
      "source": [
        "modelo += xsum(val_unidade[i] * lista_var_mip[i] for i in indice) <= termo_independente\n",
        "print('O modelo tem {} variável(eis), {} restrição(ões) e {} zero(s)'.format(modelo.num_cols, modelo.num_rows, modelo.num_nz))"
      ],
      "metadata": {
        "colab": {
          "base_uri": "https://localhost:8080/"
        },
        "id": "fmQuUr5E2Lu-",
        "outputId": "0090ff74-671b-47d1-ae55-fc5169055fe2"
      },
      "execution_count": 22,
      "outputs": [
        {
          "output_type": "stream",
          "name": "stdout",
          "text": [
            "O modelo tem 5 variável(eis), 1 restrição(ões) e 5 zero(s)\n"
          ]
        }
      ]
    },
    {
      "cell_type": "code",
      "source": [
        "%%timeit # Exibe o tempo de execução do comando\n",
        "status = modelo.optimize(max_seconds=10)"
      ],
      "metadata": {
        "colab": {
          "base_uri": "https://localhost:8080/"
        },
        "id": "h39n8quk2kq-",
        "outputId": "e235dc8c-5a88-40eb-8cea-4a0ad4998e05"
      },
      "execution_count": 27,
      "outputs": [
        {
          "output_type": "stream",
          "name": "stdout",
          "text": [
            "3.2 ms ± 227 µs per loop (mean ± std. dev. of 7 runs, 100 loops each)\n"
          ]
        }
      ]
    },
    {
      "cell_type": "code",
      "source": [
        "if status == OptimizationStatus.OPTIMAL:\n",
        "  print('Solução ótima encontrada')\n",
        "else:\n",
        "  print('O resultado não está otimizado')"
      ],
      "metadata": {
        "colab": {
          "base_uri": "https://localhost:8080/"
        },
        "id": "rx9Z6vnO2lWA",
        "outputId": "110700cd-e797-4776-89b3-2115229b1b06"
      },
      "execution_count": 26,
      "outputs": [
        {
          "output_type": "stream",
          "name": "stdout",
          "text": [
            "Resultado ótimo\n"
          ]
        }
      ]
    },
    {
      "cell_type": "code",
      "source": [
        "itens_selecionados = [\"x\"+str(i+1) for i in indice if lista_var_mip[i].x >= 0.99]\n",
        "print(\"Itens selecionados: {}\".format(itens_selecionados))"
      ],
      "metadata": {
        "colab": {
          "base_uri": "https://localhost:8080/"
        },
        "id": "USO0mHVC2pAm",
        "outputId": "15325734-f956-4a7e-f35a-9044c7a93a12"
      },
      "execution_count": 25,
      "outputs": [
        {
          "output_type": "stream",
          "name": "stdout",
          "text": [
            "Itens selecionados: ['x2', 'x3', 'x4', 'x5']\n"
          ]
        }
      ]
    },
    {
      "cell_type": "code",
      "source": [],
      "metadata": {
        "id": "iJEwJWcU2vEk"
      },
      "execution_count": null,
      "outputs": []
    }
  ]
}