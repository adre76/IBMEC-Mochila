{
  "cells": [
    {
      "attachments": {},
      "cell_type": "markdown",
      "metadata": {
        "colab_type": "text",
        "id": "view-in-github"
      },
      "source": [
        "<a href=\"https://colab.research.google.com/github/adre76/IBMEC-Mochila/blob/main/mochila.ipynb\" target=\"_parent\"><img src=\"https://colab.research.google.com/assets/colab-badge.svg\" alt=\"Abrir no Google Colab\"/></a>"
      ]
    },
    {
      "attachments": {},
      "cell_type": "markdown",
      "metadata": {
        "id": "5iILT8m21oCq"
      },
      "source": [
        "### Instalando bibliotecas necessárias"
      ]
    },
    {
      "cell_type": "code",
      "execution_count": null,
      "metadata": {
        "colab": {
          "base_uri": "https://localhost:8080/"
        },
        "id": "1cemyuPK1T9s",
        "outputId": "14e3e0a9-32d4-4f80-ad06-e7bfa51903b9"
      },
      "outputs": [],
      "source": [
        "!pip install mip"
      ]
    },
    {
      "attachments": {},
      "cell_type": "markdown",
      "metadata": {},
      "source": [
        "### Importando biblioteca MIP"
      ]
    },
    {
      "cell_type": "code",
      "execution_count": 16,
      "metadata": {
        "id": "mEf1OW7B1xKw"
      },
      "outputs": [],
      "source": [
        "from mip import Model, maximize, xsum, BINARY, OptimizationStatus"
      ]
    },
    {
      "attachments": {},
      "cell_type": "markdown",
      "metadata": {},
      "source": [
        "### Configurando as variáveis"
      ]
    },
    {
      "cell_type": "code",
      "execution_count": 17,
      "metadata": {
        "id": "sQT1cri-1_T_"
      },
      "outputs": [],
      "source": [
        "peso_item = [4, 6, 5, 3, 1]\n",
        "val_unidade = [5, 4, 3, 2, 1]\n",
        "termo_independente = 10\n",
        "indice = range(len(peso_item))\n",
        "modelo = Model('Trab_1_Mochila')\n",
        "lista_var_mip = [modelo.add_var(var_type=BINARY) for i in indice]"
      ]
    },
    {
      "attachments": {},
      "cell_type": "markdown",
      "metadata": {},
      "source": [
        "### Configuração do modelo para maximização de resultado sobre a função objetivo"
      ]
    },
    {
      "cell_type": "code",
      "execution_count": 20,
      "metadata": {
        "id": "j4ZlTR__2Gqs"
      },
      "outputs": [],
      "source": [
        "modelo.objective = maximize(xsum(peso_item[i] * lista_var_mip[i] for i in indice))"
      ]
    },
    {
      "attachments": {},
      "cell_type": "markdown",
      "metadata": {},
      "source": [
        "### Configuração da função objetivo"
      ]
    },
    {
      "cell_type": "code",
      "execution_count": 21,
      "metadata": {
        "id": "_QiUllfR2JHV"
      },
      "outputs": [],
      "source": [
        "funcao_objetivo=xsum(peso_item[i] * lista_var_mip[i] for i in indice)"
      ]
    },
    {
      "attachments": {},
      "cell_type": "markdown",
      "metadata": {},
      "source": [
        "### Adicionando as variáveis ao modelo"
      ]
    },
    {
      "cell_type": "code",
      "execution_count": null,
      "metadata": {
        "colab": {
          "base_uri": "https://localhost:8080/"
        },
        "id": "fmQuUr5E2Lu-",
        "outputId": "0090ff74-671b-47d1-ae55-fc5169055fe2"
      },
      "outputs": [],
      "source": [
        "modelo += xsum(val_unidade[i] * lista_var_mip[i] for i in indice) <= termo_independente\n",
        "print('O modelo tem {} variável(eis), {} restrição(ões) e {} zero(s)'.format(modelo.num_cols, modelo.num_rows, modelo.num_nz))"
      ]
    },
    {
      "attachments": {},
      "cell_type": "markdown",
      "metadata": {},
      "source": [
        "### Criando variável de status de otimização para ver se o modelo encontrou a melhor solução (ótima)"
      ]
    },
    {
      "cell_type": "code",
      "execution_count": null,
      "metadata": {
        "colab": {
          "base_uri": "https://localhost:8080/"
        },
        "id": "h39n8quk2kq-",
        "outputId": "e235dc8c-5a88-40eb-8cea-4a0ad4998e05"
      },
      "outputs": [],
      "source": [
        "%%timeit # Exibe o tempo de execução do comando\n",
        "status = modelo.optimize(max_seconds=10)\n",
        "if status == OptimizationStatus.OPTIMAL:\n",
        "  print('Solução ótima encontrada')\n",
        "else:\n",
        "  print('O resultado não está otimizado')"
      ]
    },
    {
      "attachments": {},
      "cell_type": "markdown",
      "metadata": {},
      "source": [
        "### Exibindo os itens selecionados pelo modelo de otimização"
      ]
    },
    {
      "cell_type": "code",
      "execution_count": null,
      "metadata": {
        "colab": {
          "base_uri": "https://localhost:8080/"
        },
        "id": "USO0mHVC2pAm",
        "outputId": "15325734-f956-4a7e-f35a-9044c7a93a12"
      },
      "outputs": [],
      "source": [
        "itens_selecionados = [\"x\"+str(i+1) for i in indice if lista_var_mip[i].x >= 0.99]\n",
        "print(\"Itens selecionados: {}\".format(itens_selecionados))"
      ]
    }
  ],
  "metadata": {
    "colab": {
      "authorship_tag": "ABX9TyMsovAg33UWkXxGpZrKuc3W",
      "include_colab_link": true,
      "provenance": []
    },
    "kernelspec": {
      "display_name": "Python 3",
      "name": "python3"
    },
    "language_info": {
      "name": "python"
    }
  },
  "nbformat": 4,
  "nbformat_minor": 0
}
