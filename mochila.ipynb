{
  "nbformat": 4,
  "nbformat_minor": 0,
  "metadata": {
    "colab": {
      "provenance": [],
      "authorship_tag": "ABX9TyNHKv6B7FFNF98K60bK8gfW",
      "include_colab_link": true
    },
    "kernelspec": {
      "name": "python3",
      "display_name": "Python 3"
    },
    "language_info": {
      "name": "python"
    }
  },
  "cells": [
    {
      "cell_type": "markdown",
      "metadata": {
        "id": "view-in-github",
        "colab_type": "text"
      },
      "source": [
        "<a href=\"https://colab.research.google.com/github/adre76/IBMEC-Mochila/blob/main/mochila.ipynb\" target=\"_parent\"><img src=\"https://colab.research.google.com/assets/colab-badge.svg\" alt=\"Open In Colab\"/></a>"
      ]
    },
    {
      "cell_type": "markdown",
      "source": [
        "# Instalando o pacote MIP (apenas no Google Colab)"
      ],
      "metadata": {
        "id": "5iILT8m21oCq"
      }
    },
    {
      "cell_type": "code",
      "execution_count": 1,
      "metadata": {
        "colab": {
          "base_uri": "https://localhost:8080/"
        },
        "id": "1cemyuPK1T9s",
        "outputId": "248a0e11-3271-4213-caeb-ad35a701356c"
      },
      "outputs": [
        {
          "output_type": "stream",
          "name": "stdout",
          "text": [
            "Looking in indexes: https://pypi.org/simple, https://us-python.pkg.dev/colab-wheels/public/simple/\n",
            "Collecting mip\n",
            "  Downloading mip-1.15.0-py3-none-any.whl (15.3 MB)\n",
            "\u001b[2K     \u001b[90m━━━━━━━━━━━━━━━━━━━━━━━━━━━━━━━━━━━━━━━━\u001b[0m \u001b[32m15.3/15.3 MB\u001b[0m \u001b[31m45.2 MB/s\u001b[0m eta \u001b[36m0:00:00\u001b[0m\n",
            "\u001b[?25hRequirement already satisfied: cffi==1.15.* in /usr/local/lib/python3.8/dist-packages (from mip) (1.15.1)\n",
            "Requirement already satisfied: pycparser in /usr/local/lib/python3.8/dist-packages (from cffi==1.15.*->mip) (2.21)\n",
            "Installing collected packages: mip\n",
            "Successfully installed mip-1.15.0\n"
          ]
        }
      ],
      "source": [
        "!pip install mip"
      ]
    },
    {
      "cell_type": "code",
      "source": [
        "from mip import Model, maximize, xsum, BINARY, OptimizationStatus"
      ],
      "metadata": {
        "id": "mEf1OW7B1xKw"
      },
      "execution_count": 2,
      "outputs": []
    },
    {
      "cell_type": "code",
      "source": [
        "peso_item = [4, 6, 5, 3, 1]\n",
        "val_unidade = [5, 4, 3, 2, 1]\n",
        "termo_independente = 10"
      ],
      "metadata": {
        "id": "sQT1cri-1_T_"
      },
      "execution_count": 3,
      "outputs": []
    },
    {
      "cell_type": "code",
      "source": [
        "I = range(len(peso_item))\n",
        "m = Model(\"Trab_1_Mochila\")"
      ],
      "metadata": {
        "id": "4MysiOee2CjD"
      },
      "execution_count": 4,
      "outputs": []
    },
    {
      "cell_type": "code",
      "source": [
        "x = [m.add_var(var_type=BINARY) for i in I]"
      ],
      "metadata": {
        "id": "nKpKi0OQ2Eo1"
      },
      "execution_count": 5,
      "outputs": []
    },
    {
      "cell_type": "code",
      "source": [
        "m.objective = maximize(xsum(peso_item[i] * x[i] for i in I))"
      ],
      "metadata": {
        "id": "j4ZlTR__2Gqs"
      },
      "execution_count": 6,
      "outputs": []
    },
    {
      "cell_type": "code",
      "source": [
        "funcao_objetivo=xsum(peso_item[i] * x[i] for i in I)"
      ],
      "metadata": {
        "id": "_QiUllfR2JHV"
      },
      "execution_count": 8,
      "outputs": []
    },
    {
      "cell_type": "code",
      "source": [
        "m += xsum(val_unidade[i] * x[i] for i in I) <= termo_independente\n",
        "print('O modelo tem {} variável(eis), {} restrição(ões) e {} zero(s)'.format(m.num_cols, m.num_rows, m.num_nz))"
      ],
      "metadata": {
        "colab": {
          "base_uri": "https://localhost:8080/"
        },
        "id": "fmQuUr5E2Lu-",
        "outputId": "d35c3a6d-7d79-4ab6-d5e7-142233ab045f"
      },
      "execution_count": 11,
      "outputs": [
        {
          "output_type": "stream",
          "name": "stdout",
          "text": [
            "O modelo tem 5 variável(eis), 1 restrição(ões) e 5 zero(s)\n"
          ]
        }
      ]
    },
    {
      "cell_type": "code",
      "source": [
        "status = m.optimize(max_seconds=10)"
      ],
      "metadata": {
        "id": "h39n8quk2kq-"
      },
      "execution_count": 12,
      "outputs": []
    },
    {
      "cell_type": "code",
      "source": [
        "status == OptimizationStatus.OPTIMAL"
      ],
      "metadata": {
        "colab": {
          "base_uri": "https://localhost:8080/"
        },
        "id": "rx9Z6vnO2lWA",
        "outputId": "f223c191-f45e-4973-b69d-2034c5924fc0"
      },
      "execution_count": 13,
      "outputs": [
        {
          "output_type": "execute_result",
          "data": {
            "text/plain": [
              "True"
            ]
          },
          "metadata": {},
          "execution_count": 13
        }
      ]
    },
    {
      "cell_type": "code",
      "source": [
        "itens_selecionados = [\"x\"+str(i+1) for i in I if x[i].x >= 0.99]\n",
        "print(\"Itens selecionados: {}\".format(itens_selecionados))"
      ],
      "metadata": {
        "colab": {
          "base_uri": "https://localhost:8080/"
        },
        "id": "USO0mHVC2pAm",
        "outputId": "7dc4275b-c012-45c4-bb54-5baee5ae25e2"
      },
      "execution_count": 14,
      "outputs": [
        {
          "output_type": "stream",
          "name": "stdout",
          "text": [
            "Itens selecionados: ['x2', 'x3', 'x4', 'x5']\n"
          ]
        }
      ]
    },
    {
      "cell_type": "code",
      "source": [],
      "metadata": {
        "id": "iJEwJWcU2vEk"
      },
      "execution_count": null,
      "outputs": []
    }
  ]
}